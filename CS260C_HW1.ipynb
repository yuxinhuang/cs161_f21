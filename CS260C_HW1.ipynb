{
  "cells": [
    {
      "cell_type": "markdown",
      "metadata": {
        "id": "view-in-github",
        "colab_type": "text"
      },
      "source": [
        "<a href=\"https://colab.research.google.com/github/yuxinhuang/cs161_f21/blob/main/CS260C_HW1.ipynb\" target=\"_parent\"><img src=\"https://colab.research.google.com/assets/colab-badge.svg\" alt=\"Open In Colab\"/></a>"
      ]
    },
    {
      "cell_type": "markdown",
      "metadata": {
        "id": "P9PBXfiIG8Yv"
      },
      "source": [
        "# HW1: Implementing fully-connected neural networks (MLP) for MNIST and CIFAR-10"
      ]
    },
    {
      "cell_type": "markdown",
      "metadata": {
        "id": "9vCETvN2Mt7q"
      },
      "source": [
        "## Importing PyTorch"
      ]
    },
    {
      "cell_type": "code",
      "execution_count": 137,
      "metadata": {
        "id": "SioBadS3Mvsn",
        "colab": {
          "base_uri": "https://localhost:8080/"
        },
        "outputId": "768f18e4-8cc1-47ee-b4d3-e5f630e79587"
      },
      "outputs": [
        {
          "output_type": "stream",
          "name": "stdout",
          "text": [
            "Requirement already satisfied: ray in /usr/local/lib/python3.7/dist-packages (1.9.2)\n",
            "Requirement already satisfied: attrs in /usr/local/lib/python3.7/dist-packages (from ray) (21.4.0)\n",
            "Requirement already satisfied: msgpack<2.0.0,>=1.0.0 in /usr/local/lib/python3.7/dist-packages (from ray) (1.0.3)\n",
            "Requirement already satisfied: protobuf>=3.15.3 in /usr/local/lib/python3.7/dist-packages (from ray) (3.17.3)\n",
            "Requirement already satisfied: filelock in /usr/local/lib/python3.7/dist-packages (from ray) (3.4.2)\n",
            "Requirement already satisfied: redis>=3.5.0 in /usr/local/lib/python3.7/dist-packages (from ray) (4.1.1)\n",
            "Requirement already satisfied: click>=7.0 in /usr/local/lib/python3.7/dist-packages (from ray) (7.1.2)\n",
            "Requirement already satisfied: jsonschema in /usr/local/lib/python3.7/dist-packages (from ray) (4.3.3)\n",
            "Requirement already satisfied: grpcio>=1.28.1 in /usr/local/lib/python3.7/dist-packages (from ray) (1.43.0)\n",
            "Requirement already satisfied: pyyaml in /usr/local/lib/python3.7/dist-packages (from ray) (3.13)\n",
            "Requirement already satisfied: numpy>=1.16 in /usr/local/lib/python3.7/dist-packages (from ray) (1.19.5)\n",
            "Requirement already satisfied: six>=1.5.2 in /usr/local/lib/python3.7/dist-packages (from grpcio>=1.28.1->ray) (1.15.0)\n",
            "Requirement already satisfied: packaging>=20.4 in /usr/local/lib/python3.7/dist-packages (from redis>=3.5.0->ray) (21.3)\n",
            "Requirement already satisfied: importlib-metadata>=1.0 in /usr/local/lib/python3.7/dist-packages (from redis>=3.5.0->ray) (4.10.0)\n",
            "Requirement already satisfied: deprecated>=1.2.3 in /usr/local/lib/python3.7/dist-packages (from redis>=3.5.0->ray) (1.2.13)\n",
            "Requirement already satisfied: wrapt<2,>=1.10 in /usr/local/lib/python3.7/dist-packages (from deprecated>=1.2.3->redis>=3.5.0->ray) (1.13.3)\n",
            "Requirement already satisfied: zipp>=0.5 in /usr/local/lib/python3.7/dist-packages (from importlib-metadata>=1.0->redis>=3.5.0->ray) (3.7.0)\n",
            "Requirement already satisfied: typing-extensions>=3.6.4 in /usr/local/lib/python3.7/dist-packages (from importlib-metadata>=1.0->redis>=3.5.0->ray) (3.10.0.2)\n",
            "Requirement already satisfied: pyparsing!=3.0.5,>=2.0.2 in /usr/local/lib/python3.7/dist-packages (from packaging>=20.4->redis>=3.5.0->ray) (3.0.6)\n",
            "Requirement already satisfied: importlib-resources>=1.4.0 in /usr/local/lib/python3.7/dist-packages (from jsonschema->ray) (5.4.0)\n",
            "Requirement already satisfied: pyrsistent!=0.17.0,!=0.17.1,!=0.17.2,>=0.14.0 in /usr/local/lib/python3.7/dist-packages (from jsonschema->ray) (0.18.0)\n"
          ]
        }
      ],
      "source": [
        "!pip3 install ray\n",
        "import torch\n",
        "import torch.nn as nn\n",
        "from torch import optim\n",
        "from sklearn import metrics\n",
        "from ray import tune\n",
        "import os"
      ]
    },
    {
      "cell_type": "markdown",
      "metadata": {
        "id": "AHl8o75iHChm"
      },
      "source": [
        "### Loading data"
      ]
    },
    {
      "cell_type": "code",
      "execution_count": 138,
      "metadata": {
        "colab": {
          "base_uri": "https://localhost:8080/"
        },
        "id": "jktdxC-2EAU_",
        "outputId": "cacbd426-46d2-4f7e-ad62-0994e9d542bc"
      },
      "outputs": [
        {
          "output_type": "stream",
          "name": "stdout",
          "text": [
            "Files already downloaded and verified\n",
            "Files already downloaded and verified\n"
          ]
        }
      ],
      "source": [
        "import torchvision\n",
        "import torchvision.transforms as transforms\n",
        "\n",
        "# You may change the value of batch size \n",
        "batch_size = 256\n",
        "\n",
        "mnist_train_data = torchvision.datasets.MNIST('./data', train=True, download=True, transform=transforms.ToTensor())\n",
        "mnist_test_data = torchvision.datasets.MNIST('./data', train=False, download=True, transform=transforms.ToTensor())\n",
        "\n",
        "mnist_train_dl = torch.utils.data.DataLoader(mnist_train_data, batch_size=batch_size, shuffle=True)\n",
        "mnist_test_dl = torch.utils.data.DataLoader(mnist_test_data, batch_size=batch_size)\n",
        "\n",
        "mean = torch.tensor([0.4914, 0.4822, 0.4465])\n",
        "std = torch.tensor([0.2009, 0.2009, 0.2009])\n",
        "transform = transforms.Compose([\n",
        "    transforms.ToTensor(), \n",
        "    transforms.Normalize(mean = mean, std = std)])\n",
        "cifar_train_data = torchvision.datasets.CIFAR10('./data', train=True, download=True, transform=transform)\n",
        "cifar_test_data = torchvision.datasets.CIFAR10('./data', train=False, download=True, transform=transform)\n",
        "\n",
        "cifar_train_dl = torch.utils.data.DataLoader(cifar_train_data, batch_size=batch_size, shuffle=True)\n",
        "cifar_test_dl = torch.utils.data.DataLoader(cifar_test_data, batch_size=batch_size)"
      ]
    },
    {
      "cell_type": "code",
      "execution_count": 139,
      "metadata": {
        "id": "r8hI2V6Qv_Pd"
      },
      "outputs": [],
      "source": [
        "class Net(nn.Module):\n",
        "  def __init__(self,input_size,hidden_size,output_size):\n",
        "    super(Net,self).__init__()\n",
        "    self.layer1 = nn.Linear(input_size,hidden_size)\n",
        "    self.layer2 = nn.Linear(hidden_size,hidden_size)\n",
        "    self.layer3 = nn.Linear(hidden_size,output_size)\n",
        "    self.relu = nn.ReLU()\n",
        "\n",
        "  def forward(self,x):\n",
        "    x = self.layer1(x)\n",
        "    x = self.relu(x)\n",
        "    x = self.layer2(x)\n",
        "    x = self.relu(x) \n",
        "    x = self.layer3(x)\n",
        "    return x"
      ]
    },
    {
      "cell_type": "markdown",
      "metadata": {
        "id": "3sk-QG88HOSO"
      },
      "source": [
        "### Model definition"
      ]
    },
    {
      "cell_type": "code",
      "execution_count": 140,
      "metadata": {
        "id": "r3KaVaAaHG2J"
      },
      "outputs": [],
      "source": [
        "\"\"\" TODO: Implement your model definitions for MNIST and CIFAR-10 respectively \"\"\"\n",
        "\n",
        "model_mnist = Net(28*28,512,10)\n",
        "\n",
        "model_cifar = Net(32*32*3,1024,10)"
      ]
    },
    {
      "cell_type": "code",
      "execution_count": 141,
      "metadata": {
        "id": "1rw6npDv2T9z"
      },
      "outputs": [],
      "source": [
        "# Loss Function\n",
        "loss = nn.CrossEntropyLoss()"
      ]
    },
    {
      "cell_type": "markdown",
      "metadata": {
        "id": "sfYcolmLHpNh"
      },
      "source": [
        "## Functions for training and test"
      ]
    },
    {
      "cell_type": "code",
      "execution_count": 142,
      "metadata": {
        "id": "dNCad3sNHqnf"
      },
      "outputs": [],
      "source": [
        "# Evaluation: compute the accuracy on test set\n",
        "\n",
        "def test(model, test_dl):\n",
        "  \"\"\" TODO: Compute accuracy \"\"\"\n",
        "  accuracy = None\n",
        "  total=0\n",
        "  correct = 0\n",
        "  for (X, y) in test_dl:\n",
        "    b = X.size(0)\n",
        "    X = X.view(b,-1)\n",
        "    res = model(X)\n",
        "    _, predicted = torch.max(res,1)\n",
        "    total+=y.size(0)\n",
        "    correct += (predicted == y).sum().item()\n",
        "  accuracy = correct / total\n",
        "  return accuracy\n",
        "\n",
        "def train(model, lr, momentum, num_epoches, train_dl, test_dl):\n",
        "  opt = optim.SGD(model.parameters(),lr=lr,momentum=momentum)\n",
        "\n",
        "  for epoch in range(1, num_epoches + 1):\n",
        "    \"\"\" TODO: Do training on the training set\"\"\"\n",
        "    for X, y in train_dl:\n",
        "      b = X.size(0)\n",
        "      X = X.view(b,-1)\n",
        "      #forard\n",
        "      l = model(X)\n",
        "      #Loss\n",
        "      J = loss(l,y)\n",
        "      #Cleaning the Gradients\n",
        "      model.zero_grad()\n",
        "      #backprop\n",
        "      J.backward()\n",
        "      #step in\n",
        "      opt.step()\n",
        "\n",
        "    test_accuracy = test(model, test_dl)\n",
        "    print(f\"Test accuracy at epoch {epoch}: {test_accuracy:.4f}\")\n",
        "\n",
        "def train_GridSearch(config , model = None, num_epoches= 10, train_dl = None, test_dl= None):\n",
        "  \"\"\" TODO: Define your optimizer \"\"\"\n",
        "\n",
        "  opt = optim.SGD(model.parameters(),lr=config[\"lr\"],momentum=config[\"momentum\"])\n",
        "\n",
        "  for epoch in range(1, num_epoches + 1):\n",
        "    \"\"\" TODO: Do training on the training set\"\"\"\n",
        "    for X, y in train_dl:\n",
        "      b = X.size(0)\n",
        "      X = X.view(b,-1)\n",
        "      #forard\n",
        "      l = model(X)\n",
        "      #Loss\n",
        "      J = loss(l,y)\n",
        "      #Cleaning the Gradients\n",
        "      model.zero_grad()\n",
        "      #backprop\n",
        "      J.backward()\n",
        "      #step in\n",
        "      opt.step()\n",
        "\n",
        "    test_accuracy = test(model, test_dl)\n",
        "    print(f\"Test accuracy at epoch {epoch}: {test_accuracy:.4f}\")\n",
        "    tune.report(accuracy = test_accuracy)\n",
        "    \n"
      ]
    },
    {
      "cell_type": "markdown",
      "metadata": {
        "id": "HexkaAO_d31d"
      },
      "source": [
        "## Training and Testing for MNIST"
      ]
    },
    {
      "cell_type": "code",
      "execution_count": null,
      "metadata": {
        "id": "uoFOdkn_IP3u"
      },
      "outputs": [],
      "source": [
        "\"\"\" TODO: Set hyperparameters \"\"\"\n",
        "lr = [0.001,0.01,0.1,0.2,0.5,1.0,5.0]\n",
        "momentum = [0,0.1,0.2,0.5,0.8,0.9,1.0]\n",
        "num_epoches = 10\n",
        "config_mnist = {\"lr\": tune.grid_search(lr),\n",
        "          \"momentum\": tune.grid_search(momentum)\n",
        "          }\n",
        "#Hyperparameters tuning\n",
        "analysis = tune.run(tune.with_parameters(train_GridSearch,model = model_mnist, num_epoches= 10, train_dl = mnist_train_dl, test_dl= mnist_test_dl), config=config_mnist)\n"
      ]
    },
    {
      "cell_type": "code",
      "execution_count": 145,
      "metadata": {
        "colab": {
          "base_uri": "https://localhost:8080/"
        },
        "id": "uQ8stQnXVUNr",
        "outputId": "5ef774f2-2617-4302-d0c8-7e0be4465eab"
      },
      "outputs": [
        {
          "output_type": "stream",
          "name": "stdout",
          "text": [
            "Best Configuration -- lr : 0.1 , momentum : 0.9\n",
            "Test accuracy at epoch 1: 0.9831\n",
            "Test accuracy at epoch 2: 0.9817\n",
            "Test accuracy at epoch 3: 0.9844\n",
            "Test accuracy at epoch 4: 0.9842\n",
            "Test accuracy at epoch 5: 0.9843\n",
            "Test accuracy at epoch 6: 0.9845\n",
            "Test accuracy at epoch 7: 0.9846\n",
            "Test accuracy at epoch 8: 0.9843\n",
            "Test accuracy at epoch 9: 0.9845\n",
            "Test accuracy at epoch 10: 0.9846\n",
            "Final test accuracy on MNIST: 0.9846\n"
          ]
        }
      ],
      "source": [
        "best_config_mnist = analysis.get_best_config(metric=\"accuracy\",mode = \"max\")\n",
        "print(\"Best Configuration -- lr : \" + str(best_config[\"lr\"]) + \" , momentum : \"+ str(best_config[\"momentum\"]))\n",
        "train(model_mnist, best_config[\"lr\"], best_config[\"momentum\"], num_epoches, mnist_train_dl, mnist_test_dl)\n",
        "test_accuracy = test(model_mnist,mnist_test_dl)\n",
        "print(f\"Final test accuracy on MNIST: {test_accuracy:.4f}\")"
      ]
    },
    {
      "cell_type": "markdown",
      "metadata": {
        "id": "MwOZmS_VPxil"
      },
      "source": [
        "## Training and Testing for CIFAR-10"
      ]
    },
    {
      "cell_type": "code",
      "execution_count": null,
      "metadata": {
        "id": "pHvtC_XuPnzv"
      },
      "outputs": [],
      "source": [
        "\"\"\" TODO: Set hyperparameters \"\"\"\n",
        "\"\"\" TODO: Set hyperparameters \"\"\"\n",
        "lr = [0.001,0.01,0.1,0.2,0.5,1.0,5.0]\n",
        "momentum = [0,0.1,0.2,0.5,0.8,0.9,1.0]\n",
        "num_epoches = 10\n",
        "config_cifar = {\"lr\": tune.grid_search(lr),\n",
        "          \"momentum\": tune.grid_search(momentum)\n",
        "          }\n",
        "#Hyperparameters tuning\n",
        "analysis_cifar = tune.run(tune.with_parameters(train_GridSearch,model = model_cifar, num_epoches= 10, train_dl = cifar_train_dl, test_dl= cifar_test_dl), config=config_cifar)\n"
      ]
    },
    {
      "cell_type": "code",
      "source": [
        "best_config_cifar = analysis_cifar.get_best_config(metric=\"accuracy\",mode = \"max\")\n",
        "print(\"Best Configuration -- lr : \" + str(best_config_cifar[\"lr\"]) + \" , momentum : \"+ str(best_config_cifar[\"momentum\"]))\n",
        "#increase num_epoches to 15\n",
        "num_epoches = 15\n",
        "train(model_cifar, best_config_cifar[\"lr\"], best_config_cifar[\"momentum\"], num_epoches, cifar_train_dl, cifar_test_dl)\n",
        "test_accuracy = test(model_cifar, cifar_test_dl)\n",
        "print(f\"Final test accuracy on CIFAR-10: {test_accuracy:.4f}\")"
      ],
      "metadata": {
        "colab": {
          "base_uri": "https://localhost:8080/"
        },
        "id": "kEMXZRbCxfVb",
        "outputId": "3893e403-5dfa-4600-c06b-62658c1062cc"
      },
      "execution_count": 151,
      "outputs": [
        {
          "output_type": "stream",
          "name": "stdout",
          "text": [
            "Best Configuration -- lr : 0.01 , momentum : 0.9\n",
            "Test accuracy at epoch 1: 0.5739\n",
            "Test accuracy at epoch 2: 0.5751\n",
            "Test accuracy at epoch 3: 0.5723\n",
            "Test accuracy at epoch 4: 0.5739\n",
            "Test accuracy at epoch 5: 0.5783\n",
            "Test accuracy at epoch 6: 0.5734\n",
            "Test accuracy at epoch 7: 0.5808\n",
            "Test accuracy at epoch 8: 0.5775\n",
            "Test accuracy at epoch 9: 0.5790\n",
            "Test accuracy at epoch 10: 0.5790\n",
            "Test accuracy at epoch 11: 0.5773\n",
            "Test accuracy at epoch 12: 0.5776\n",
            "Test accuracy at epoch 13: 0.5794\n",
            "Test accuracy at epoch 14: 0.5786\n",
            "Test accuracy at epoch 15: 0.5803\n",
            "Final test accuracy on CIFAR-10: 0.5803\n"
          ]
        }
      ]
    }
  ],
  "metadata": {
    "accelerator": "GPU",
    "colab": {
      "collapsed_sections": [],
      "machine_shape": "hm",
      "name": "CS260C HW1.ipynb",
      "provenance": [],
      "include_colab_link": true
    },
    "kernelspec": {
      "display_name": "Python 3",
      "name": "python3"
    },
    "language_info": {
      "name": "python"
    }
  },
  "nbformat": 4,
  "nbformat_minor": 0
}